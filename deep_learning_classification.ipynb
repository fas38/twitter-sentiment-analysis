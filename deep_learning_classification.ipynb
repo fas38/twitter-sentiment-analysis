{
 "cells": [
  {
   "cell_type": "code",
   "execution_count": 1,
   "metadata": {},
   "outputs": [],
   "source": [
    "# Imports\n",
    "import pandas as pd\n",
    "import numpy as np\n",
    "import os"
   ]
  },
  {
   "cell_type": "code",
   "execution_count": 2,
   "metadata": {},
   "outputs": [],
   "source": [
    "# Load data\n",
    "\n",
    "team_id = '20' #put your team id here\n",
    "split = 'test_1' # replace by 'test_2' for FINAL submission\n",
    "\n",
    "df = pd.read_csv('dataset/tweets_train.csv')\n",
    "df_test = pd.read_csv(f'dataset/tweets_{split}.csv')"
   ]
  },
  {
   "cell_type": "code",
   "execution_count": 3,
   "metadata": {},
   "outputs": [],
   "source": [
    "df['words_str'] = df['words'].apply(lambda words: ' '.join(eval(words)))\n",
    "df_test['words_str'] = df_test['words'].apply(lambda words: ' '.join(eval(words)))"
   ]
  },
  {
   "cell_type": "code",
   "execution_count": 4,
   "metadata": {},
   "outputs": [
    {
     "name": "stderr",
     "output_type": "stream",
     "text": [
      "2023-08-10 09:42:55.443265: I tensorflow/core/platform/cpu_feature_guard.cc:182] This TensorFlow binary is optimized to use available CPU instructions in performance-critical operations.\n",
      "To enable the following instructions: AVX2 FMA, in other operations, rebuild TensorFlow with the appropriate compiler flags.\n",
      "2023-08-10 09:42:56.288950: W tensorflow/compiler/tf2tensorrt/utils/py_utils.cc:38] TF-TRT Warning: Could not find TensorRT\n"
     ]
    }
   ],
   "source": [
    "from sentence_transformers import SentenceTransformer\n",
    "\n",
    "# Specify the model name\n",
    "# I downloaded in models directory three models: \n",
    "# all-MiniLM-L6-v2(Fastest but smalles), stsb-roberta-base-v2(middle), and stsb-mpnet-base-v2(Slowest, but best performance)\n",
    "\n",
    "name = 'stsb-mpnet-base-v2'\n",
    "\n",
    "\n",
    "# Download and save the model if not available\n",
    "#model = SentenceTransformer(name)\n",
    "\n",
    "#model.save('models/' + name)\n",
    "\n",
    "# Load the model\n",
    "model_enc = SentenceTransformer('models/' + name).to('cuda')"
   ]
  },
  {
   "cell_type": "code",
   "execution_count": 5,
   "metadata": {},
   "outputs": [],
   "source": [
    "# # List of sentences to get embeddings for\n",
    "# sentences = list(df.words_str.values)\n",
    "\n",
    "# # Get the sentence embeddings\n",
    "# sentence_embeddings = model_enc.encode(sentences)"
   ]
  },
  {
   "cell_type": "code",
   "execution_count": 6,
   "metadata": {},
   "outputs": [
    {
     "name": "stderr",
     "output_type": "stream",
     "text": [
      "[nltk_data] Downloading package wordnet to /root/nltk_data...\n",
      "[nltk_data]   Package wordnet is already up-to-date!\n"
     ]
    }
   ],
   "source": [
    "# Augmentation\n",
    "from random import shuffle\n",
    "import nltk\n",
    "from nltk.corpus import wordnet\n",
    "\n",
    "# Download WordNet data\n",
    "nltk.download('wordnet')\n",
    "\n",
    "def get_synonyms(word):\n",
    "    synonyms = set()\n",
    "    for syn in wordnet.synsets(word):\n",
    "        for lemma in syn.lemmas():\n",
    "            synonyms.add(lemma.name())\n",
    "    return list(synonyms)\n",
    "\n",
    "def synonym_replacement(sentence, n=2):\n",
    "    words = sentence.split()\n",
    "    new_words = words.copy()\n",
    "    random_word_list = list(set([word for word in words]))\n",
    "    shuffle(random_word_list)\n",
    "    num_replaced = 0\n",
    "    for random_word in random_word_list:\n",
    "        synonyms = get_synonyms(random_word)\n",
    "        if len(synonyms) >= 1:\n",
    "            synonym = np.random.choice(synonyms)\n",
    "            new_words = [synonym if word == random_word else word for word in new_words]\n",
    "            num_replaced += 1\n",
    "        if num_replaced >= n:\n",
    "            break\n",
    "    return ' '.join(new_words)\n"
   ]
  },
  {
   "cell_type": "code",
   "execution_count": 7,
   "metadata": {},
   "outputs": [],
   "source": [
    "# Original data\n",
    "original_sentences = list(df.words_str.values)\n",
    "\n",
    "# Augmented data\n",
    "augmented_sentences = original_sentences.copy()\n",
    "for _ in range(4): # 4 times to make the total data 5 times\n",
    "    augmented_sentences += [synonym_replacement(sentence) for sentence in original_sentences]\n",
    "\n",
    "# Use augmented sentences for embeddings\n",
    "sentences = augmented_sentences\n",
    "sentence_embeddings = model_enc.encode(sentences)\n",
    "X = sentence_embeddings\n",
    "\n",
    "# Original target\n",
    "original_y = df.sentiment.values\n",
    "\n",
    "# Augmented target\n",
    "y_text = np.tile(original_y, 5) # Repeat 5 times\n"
   ]
  },
  {
   "cell_type": "markdown",
   "metadata": {},
   "source": [
    "# Classification"
   ]
  },
  {
   "cell_type": "code",
   "execution_count": 8,
   "metadata": {},
   "outputs": [],
   "source": [
    "from sklearn import linear_model\n",
    "from sklearn import preprocessing\n",
    "from sklearn.model_selection import train_test_split\n",
    "import sklearn.metrics as skm\n",
    "from sklearn.metrics import f1_score\n"
   ]
  },
  {
   "cell_type": "code",
   "execution_count": 9,
   "metadata": {},
   "outputs": [
    {
     "name": "stdout",
     "output_type": "stream",
     "text": [
      "Original classes ['negative' 'neutral' 'positive']\n",
      "Corresponding numeric classes [0 1 2]\n",
      "X: (40000, 768)\n",
      "y: (40000,) [0 1 2]\n"
     ]
    }
   ],
   "source": [
    "X = sentence_embeddings\n",
    "# y_text = df.sentiment.values\n",
    "le = preprocessing.LabelEncoder()\n",
    "le.fit(y_text)\n",
    "print(f'Original classes {le.classes_}')\n",
    "print(f'Corresponding numeric classes {le.transform(le.classes_)}')\n",
    "y =le.transform(y_text)\n",
    "print(f\"X: {X.shape}\")\n",
    "print(f\"y: {y.shape} {np.unique(y)}\")\n",
    "X_train, X_val, y_train, y_val = train_test_split(X, y, test_size=0.3, random_state=None, shuffle=True)\n",
    "\n",
    "datasets = [\n",
    "    [X_train, y_train],\n",
    "    [X_val, y_val]\n",
    "]"
   ]
  },
  {
   "cell_type": "code",
   "execution_count": 10,
   "metadata": {},
   "outputs": [],
   "source": [
    "import torch\n",
    "import torch.nn as nn\n",
    "import torch.nn.functional as F\n",
    "\n",
    "class ClassificationNN(nn.Module):\n",
    "    def __init__(self, input_dim, num_classes=3, dropout_rate=0.5):\n",
    "        super(ClassificationNN, self).__init__()\n",
    "        \n",
    "        # First set of layers\n",
    "        self.fc1 = nn.Linear(input_dim, 256)\n",
    "        self.dropout1 = nn.Dropout(dropout_rate)\n",
    "        self.fc2 = nn.Linear(256, 128)\n",
    "        self.dropout2 = nn.Dropout(dropout_rate)\n",
    "        \n",
    "        # Second set of layers\n",
    "        self.fc3 = nn.Linear(128, 128)\n",
    "        self.dropout3 = nn.Dropout(dropout_rate)\n",
    "        self.fc4 = nn.Linear(128, 64)\n",
    "        self.dropout4 = nn.Dropout(dropout_rate)\n",
    "        \n",
    "        # Output layer\n",
    "        self.fc5 = nn.Linear(64, num_classes)\n",
    "\n",
    "    def forward(self, x):\n",
    "        # First set of layers\n",
    "        x = F.relu(self.fc1(x))\n",
    "        x = self.dropout1(x)\n",
    "        x = F.relu(self.fc2(x))\n",
    "        x = self.dropout2(x)\n",
    "        \n",
    "        # Second set of layers\n",
    "        x = F.relu(self.fc3(x))\n",
    "        x = self.dropout3(x)\n",
    "        x = F.relu(self.fc4(x))\n",
    "        x = self.dropout4(x)\n",
    "        \n",
    "        # Output\n",
    "        x = self.fc5(x)\n",
    "        return x\n"
   ]
  },
  {
   "cell_type": "code",
   "execution_count": 11,
   "metadata": {},
   "outputs": [],
   "source": [
    "device = torch.device('cuda' if torch.cuda.is_available() else 'cpu')"
   ]
  },
  {
   "cell_type": "code",
   "execution_count": 12,
   "metadata": {},
   "outputs": [],
   "source": [
    "X_train_tensor = torch.tensor(X_train, dtype=torch.float32).to(device)\n",
    "y_train_tensor = torch.tensor(y_train, dtype=torch.long).to(device)\n",
    "\n",
    "X_val_tensor = torch.tensor(X_val, dtype=torch.float32).to(device)\n",
    "y_val_tensor = torch.tensor(y_val, dtype=torch.long).to(device)\n"
   ]
  },
  {
   "cell_type": "code",
   "execution_count": 13,
   "metadata": {},
   "outputs": [
    {
     "name": "stdout",
     "output_type": "stream",
     "text": [
      "sentiment\n",
      "neutral     0.069689\n",
      "positive    0.165465\n",
      "negative    0.764846\n",
      "Name: count, dtype: float64\n"
     ]
    }
   ],
   "source": [
    "# Count the number of occurrences of each class\n",
    "class_counts = df['sentiment'].value_counts()\n",
    "\n",
    "# Calculate the proportions of each class\n",
    "class_proportions = class_counts / len(df)\n",
    "\n",
    "# Calculate weights as the inverse of class proportions\n",
    "weights = 1. / class_proportions\n",
    "\n",
    "# Normalize the weights so they sum to 1\n",
    "weights = weights / weights.sum()\n",
    "\n",
    "# Print the weights\n",
    "print(weights)\n"
   ]
  },
  {
   "cell_type": "code",
   "execution_count": 14,
   "metadata": {},
   "outputs": [
    {
     "name": "stdout",
     "output_type": "stream",
     "text": [
      "Epoch [1/500], Training Loss: 1.1318, Validation Loss: 1.1226, Training F1: 0.1065, Validation F1: 0.0367\n",
      "Epoch [6/500], Training Loss: 1.0703, Validation Loss: 1.0497, Training F1: 0.3183, Validation F1: 0.2663\n",
      "Epoch [11/500], Training Loss: 0.9025, Validation Loss: 0.8441, Training F1: 0.2665, Validation F1: 0.2663\n",
      "Epoch [16/500], Training Loss: 0.8358, Validation Loss: 0.7593, Training F1: 0.2671, Validation F1: 0.2663\n",
      "Epoch [21/500], Training Loss: 0.8029, Validation Loss: 0.7646, Training F1: 0.3202, Validation F1: 0.2663\n",
      "Epoch [26/500], Training Loss: 0.7674, Validation Loss: 0.7141, Training F1: 0.3077, Validation F1: 0.2663\n",
      "Epoch [31/500], Training Loss: 0.7361, Validation Loss: 0.6812, Training F1: 0.2965, Validation F1: 0.2663\n",
      "Epoch [36/500], Training Loss: 0.7000, Validation Loss: 0.6507, Training F1: 0.3732, Validation F1: 0.4649\n",
      "Epoch [41/500], Training Loss: 0.6631, Validation Loss: 0.6050, Training F1: 0.4407, Validation F1: 0.4828\n",
      "Epoch [46/500], Training Loss: 0.6384, Validation Loss: 0.5881, Training F1: 0.4742, Validation F1: 0.4885\n",
      "Epoch [51/500], Training Loss: 0.6235, Validation Loss: 0.5781, Training F1: 0.4799, Validation F1: 0.4928\n",
      "Epoch [56/500], Training Loss: 0.6065, Validation Loss: 0.5602, Training F1: 0.4832, Validation F1: 0.4965\n"
     ]
    },
    {
     "name": "stdout",
     "output_type": "stream",
     "text": [
      "Epoch [61/500], Training Loss: 0.5944, Validation Loss: 0.5512, Training F1: 0.4886, Validation F1: 0.4989\n",
      "Epoch [66/500], Training Loss: 0.5805, Validation Loss: 0.5441, Training F1: 0.4923, Validation F1: 0.5016\n",
      "Epoch [71/500], Training Loss: 0.5647, Validation Loss: 0.5333, Training F1: 0.5006, Validation F1: 0.5056\n",
      "Epoch [76/500], Training Loss: 0.5491, Validation Loss: 0.5207, Training F1: 0.5016, Validation F1: 0.5066\n",
      "Epoch [81/500], Training Loss: 0.5300, Validation Loss: 0.5087, Training F1: 0.5098, Validation F1: 0.5111\n",
      "Epoch [86/500], Training Loss: 0.5101, Validation Loss: 0.4954, Training F1: 0.5164, Validation F1: 0.5157\n",
      "Epoch [91/500], Training Loss: 0.4892, Validation Loss: 0.4815, Training F1: 0.5237, Validation F1: 0.5208\n",
      "Epoch [96/500], Training Loss: 0.4656, Validation Loss: 0.4649, Training F1: 0.5343, Validation F1: 0.5272\n",
      "Epoch [111/500], Training Loss: 0.3850, Validation Loss: 0.4095, Training F1: 0.6541, Validation F1: 0.6575\n",
      "Epoch [121/500], Training Loss: 0.3271, Validation Loss: 0.3721, Training F1: 0.7791, Validation F1: 0.7744\n",
      "Epoch [131/500], Training Loss: 0.2632, Validation Loss: 0.3451, Training F1: 0.8373, Validation F1: 0.8040\n",
      "Epoch [141/500], Training Loss: 0.2125, Validation Loss: 0.3138, Training F1: 0.8784, Validation F1: 0.8334\n",
      "Epoch [151/500], Training Loss: 0.1724, Validation Loss: 0.3019, Training F1: 0.9126, Validation F1: 0.8489\n",
      "Epoch [161/500], Training Loss: 0.1329, Validation Loss: 0.3060, Training F1: 0.9307, Validation F1: 0.8592\n",
      "Epoch [171/500], Training Loss: 0.1099, Validation Loss: 0.2962, Training F1: 0.9483, Validation F1: 0.8714\n",
      "Epoch [181/500], Training Loss: 0.0948, Validation Loss: 0.3043, Training F1: 0.9536, Validation F1: 0.8793\n",
      "Epoch 00183: reducing learning rate of group 0 to 1.0000e-04.\n",
      "Epoch [191/500], Training Loss: 0.0850, Validation Loss: 0.3050, Training F1: 0.9625, Validation F1: 0.8801\n",
      "Epoch 00194: reducing learning rate of group 0 to 1.0000e-05.\n",
      "Epoch [201/500], Training Loss: 0.0811, Validation Loss: 0.3049, Training F1: 0.9631, Validation F1: 0.8795\n",
      "Epoch 00205: reducing learning rate of group 0 to 1.0000e-06.\n",
      "Epoch [211/500], Training Loss: 0.0783, Validation Loss: 0.3048, Training F1: 0.9639, Validation F1: 0.8794\n",
      "Epoch 00216: reducing learning rate of group 0 to 1.0000e-07.\n",
      "Epoch [221/500], Training Loss: 0.0818, Validation Loss: 0.3047, Training F1: 0.9616, Validation F1: 0.8794\n",
      "Epoch 00227: reducing learning rate of group 0 to 1.0000e-08.\n",
      "Epoch [231/500], Training Loss: 0.0840, Validation Loss: 0.3047, Training F1: 0.9613, Validation F1: 0.8794\n",
      "Epoch [241/500], Training Loss: 0.0801, Validation Loss: 0.3047, Training F1: 0.9640, Validation F1: 0.8794\n",
      "Epoch [251/500], Training Loss: 0.0815, Validation Loss: 0.3047, Training F1: 0.9643, Validation F1: 0.8794\n",
      "Epoch [261/500], Training Loss: 0.0811, Validation Loss: 0.3047, Training F1: 0.9638, Validation F1: 0.8794\n",
      "Epoch [271/500], Training Loss: 0.0889, Validation Loss: 0.3047, Training F1: 0.9605, Validation F1: 0.8794\n",
      "Epoch [281/500], Training Loss: 0.0829, Validation Loss: 0.3047, Training F1: 0.9619, Validation F1: 0.8794\n",
      "Stopping training after 290 epochs. Best F1 0.8802 achieved at epoch 189.\n",
      "Training completed. Best F1 0.8802 achieved at epoch 189.\n"
     ]
    }
   ],
   "source": [
    "from torch.optim.lr_scheduler import ReduceLROnPlateau\n",
    "\n",
    "# Hyperparameters\n",
    "learning_rate = 0.001\n",
    "epochs = 500\n",
    "batch_size = 32\n",
    "\n",
    "# Initialize the model and move to the device\n",
    "model_clf = ClassificationNN(X_train.shape[1]).to(device)\n",
    "\n",
    "# weights = torch.tensor([0.764846, 0.069689, 0.165465], dtype=torch.float32).to(device)\n",
    "# Loss and optimizer\n",
    "criterion = nn.CrossEntropyLoss()  # This criterion combines nn.LogSoftmax() and nn.NLLLoss\n",
    "weight_decay_value = 1e-5  # This is a hyperparameter and can be adjusted\n",
    "optimizer = torch.optim.AdamW(model_clf.parameters(), lr=learning_rate, weight_decay=weight_decay_value)\n",
    "scheduler = ReduceLROnPlateau(optimizer, 'min', factor=0.1, patience=10, verbose=True)\n",
    "\n",
    "# Helper function to compute f1_score\n",
    "def compute_f1_score(y_true, y_pred):\n",
    "    y_true = y_true.cpu().numpy()\n",
    "    y_pred = torch.argmax(y_pred, dim=1).cpu().numpy()\n",
    "    return f1_score(y_true, y_pred, average='macro')\n",
    "\n",
    "# Training loop\n",
    "training_losses = []\n",
    "validation_losses = []\n",
    "training_f1 = []\n",
    "validation_f1 = []\n",
    "\n",
    "best_f1 = float('-inf')  # start with a very low value\n",
    "best_epoch = -1  # an invalid epoch number to start with\n",
    "\n",
    "for epoch in range(epochs):\n",
    "    # Set model to training mode and ensure it's on the right device\n",
    "    model_clf.train().to(device)\n",
    "    \n",
    "    # Forward pass on training data\n",
    "    train_outputs = model_clf(X_train_tensor)\n",
    "    train_loss = criterion(train_outputs, y_train_tensor)\n",
    "    \n",
    "    # Backward pass and optimization\n",
    "    optimizer.zero_grad()\n",
    "    train_loss.backward()\n",
    "    optimizer.step()\n",
    "    \n",
    "    # Set model to evaluation mode\n",
    "    model_clf.eval()\n",
    "    with torch.no_grad():\n",
    "        # Forward pass on validation data\n",
    "        val_outputs = model_clf(X_val_tensor)\n",
    "        val_loss = criterion(val_outputs, y_val_tensor)\n",
    "        scheduler.step(val_loss)\n",
    "    \n",
    "    # Store the losses for plotting\n",
    "    training_losses.append(train_loss.item())\n",
    "    validation_losses.append(val_loss.item())\n",
    "    \n",
    "    # Calculate and store the F1 score for plotting\n",
    "    train_f1 = compute_f1_score(y_train_tensor, train_outputs)\n",
    "    val_f1 = compute_f1_score(y_val_tensor, val_outputs)\n",
    "    training_f1.append(train_f1)\n",
    "    validation_f1.append(val_f1)\n",
    "    \n",
    "    current_val_f1 = val_f1\n",
    "\n",
    "    # Check if the current F1 score is better than the best F1 score\n",
    "    if current_val_f1 > best_f1:\n",
    "        best_f1 = current_val_f1\n",
    "        best_epoch = epoch\n",
    "    else:\n",
    "        # Stop training after a certain number of epochs without improvement\n",
    "        if epoch - best_epoch > 100:\n",
    "            print(f\"Stopping training after {epoch} epochs. Best F1 {best_f1:.4f} achieved at epoch {best_epoch}.\")\n",
    "            break\n",
    "    \n",
    "    # Print progress\n",
    "    if epoch < 100 and epoch % 5 == 0:\n",
    "        print(f'Epoch [{epoch+1}/{epochs}], Training Loss: {train_loss.item():.4f}, Validation Loss: {val_loss.item():.4f}, Training F1: {train_f1:.4f}, Validation F1: {val_f1:.4f}')\n",
    "    elif 100 < epoch < 300 and epoch % 10 == 0:\n",
    "        print(f'Epoch [{epoch+1}/{epochs}], Training Loss: {train_loss.item():.4f}, Validation Loss: {val_loss.item():.4f}, Training F1: {train_f1:.4f}, Validation F1: {val_f1:.4f}')\n",
    "    elif 300 < epoch < 1000 and epoch % 50 == 0:\n",
    "        print(f'Epoch [{epoch+1}/{epochs}], Training Loss: {train_loss.item():.4f}, Validation Loss: {val_loss.item():.4f}, Training F1: {train_f1:.4f}, Validation F1: {val_f1:.4f}')\n",
    "    elif epoch > 1000 and epoch % 1000 == 0:\n",
    "        print(f'Epoch [{epoch+1}/{epochs}], Training Loss: {train_loss.item():.4f}, Validation Loss: {val_loss.item():.4f}, Training F1: {train_f1:.4f}, Validation F1: {val_f1:.4f}')\n",
    "\n",
    "# If the loop completed without breaking, print the best F1 score achieved\n",
    "if best_epoch != epoch:\n",
    "    print(f\"Training completed. Best F1 {best_f1:.4f} achieved at epoch {best_epoch}.\")"
   ]
  },
  {
   "cell_type": "code",
   "execution_count": 15,
   "metadata": {},
   "outputs": [
    {
     "data": {
      "image/png": "[encoded data removed]",
      "text/plain": [
       "<Figure size 1200x400 with 2 Axes>"
      ]
     },
     "metadata": {},
     "output_type": "display_data"
    }
   ],
   "source": [
    "import matplotlib.pyplot as plt\n",
    "\n",
    "# Plotting Training and Validation Loss (MSE)\n",
    "plt.figure(figsize=(12, 4))\n",
    "\n",
    "plt.subplot(1, 2, 1)\n",
    "plt.plot(training_losses, label='Training Loss')\n",
    "plt.plot(validation_losses, label='Validation Loss')\n",
    "plt.title('Training and Validation Loss (MSE)')\n",
    "plt.xlabel('Epochs')\n",
    "plt.ylabel('Loss')\n",
    "plt.legend()\n",
    "\n",
    "# Plotting Training and Validation F1 Score\n",
    "plt.subplot(1, 2, 2)\n",
    "plt.plot(training_f1, label='Training F1')\n",
    "plt.plot(validation_f1, label='Validation F1')\n",
    "plt.title('Training and Validation F1 Score')\n",
    "plt.xlabel('Epochs')\n",
    "plt.ylabel('F1 Score')\n",
    "plt.legend()\n",
    "\n",
    "plt.tight_layout()\n",
    "plt.show()\n"
   ]
  },
  {
   "cell_type": "code",
   "execution_count": 16,
   "metadata": {},
   "outputs": [],
   "source": [
    "# Encode the test sentences\n",
    "sentences = list(df_test.words_str.values)\n",
    "X_test = model_enc.encode(sentences)\n",
    "\n",
    "# Convert to a PyTorch tensor and move to the device\n",
    "X_test_tensor = torch.tensor(X_test, dtype=torch.float32).to(device)\n",
    "\n",
    "# Get predictions with the neural network\n",
    "model_clf.eval()  # Set the model to evaluation mode\n",
    "with torch.no_grad():\n",
    "    y_hat_tensor = model_clf(X_test_tensor)\n",
    "\n",
    "# Get the class predictions\n",
    "y_hat = torch.argmax(y_hat_tensor, dim=1)\n",
    "\n",
    "# Convert the tensor to a numpy array\n",
    "y_hat = y_hat.cpu().numpy()\n",
    "\n",
    "# Convert the numerical labels back to original form\n",
    "y_hat = le.inverse_transform(y_hat)\n",
    "\n",
    "# Save the results with the specified format\n",
    "directory = 'results'\n",
    "np.save(os.path.join(directory, f'{team_id}__{split}__clf_pred.npy'), y_hat)\n"
   ]
  },
  {
   "cell_type": "code",
   "execution_count": 17,
   "metadata": {},
   "outputs": [
    {
     "data": {
      "text/plain": [
       "(1000,)"
      ]
     },
     "execution_count": 17,
     "metadata": {},
     "output_type": "execute_result"
    }
   ],
   "source": [
    "# Load 20__test_1__clf_pred.npy\n",
    "\n",
    "np.load('results/20__test_1__clf_pred.npy', allow_pickle=True).shape"
   ]
  }
 ],
 "metadata": {
  "kernelspec": {
   "display_name": "mlStuff",
   "language": "python",
   "name": "python3"
  },
  "language_info": {
   "codemirror_mode": {
    "name": "ipython",
    "version": 3
   },
   "file_extension": ".py",
   "mimetype": "text/x-python",
   "name": "python",
   "nbconvert_exporter": "python",
   "pygments_lexer": "ipython3",
   "version": "3.9.16"
  },
  "orig_nbformat": 4
 },
 "nbformat": 4,
 "nbformat_minor": 2
}
