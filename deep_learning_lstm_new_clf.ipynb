{
 "cells": [
  {
   "cell_type": "code",
   "execution_count": 1,
   "metadata": {},
   "outputs": [],
   "source": [
    "# Imports\n",
    "import pandas as pd\n",
    "import numpy as np\n",
    "import os"
   ]
  },
  {
   "cell_type": "markdown",
   "metadata": {},
   "source": [
    "# Preprocessing"
   ]
  },
  {
   "cell_type": "code",
   "execution_count": 2,
   "metadata": {},
   "outputs": [],
   "source": [
    "# Load df\n",
    "\n",
    "team_id = '20' #put your team id here\n",
    "split = 'test_1' # replace by 'test_2' for FINAL submission\n",
    "\n",
    "df = pd.read_csv('dataset/tweets_train.csv')\n",
    "df_test = pd.read_csv(f'dataset/tweets_{split}.csv')"
   ]
  },
  {
   "cell_type": "code",
   "execution_count": 3,
   "metadata": {},
   "outputs": [
    {
     "name": "stderr",
     "output_type": "stream",
     "text": [
      "2023-08-09 13:52:39.480988: I tensorflow/core/platform/cpu_feature_guard.cc:182] This TensorFlow binary is optimized to use available CPU instructions in performance-critical operations.\n",
      "To enable the following instructions: AVX2 FMA, in other operations, rebuild TensorFlow with the appropriate compiler flags.\n",
      "2023-08-09 13:52:40.185111: W tensorflow/compiler/tf2tensorrt/utils/py_utils.cc:38] TF-TRT Warning: Could not find TensorRT\n"
     ]
    }
   ],
   "source": [
    "from tensorflow.keras.preprocessing.text import Tokenizer\n",
    "from tensorflow.keras.preprocessing.sequence import pad_sequences"
   ]
  },
  {
   "cell_type": "code",
   "execution_count": 4,
   "metadata": {},
   "outputs": [],
   "source": [
    "# # Converting the \"words\" column from string representation to actual lists\n",
    "# import ast\n",
    "# df['words_list'] = df['words'].apply(ast.literal_eval)\n",
    "\n",
    "# # Displaying the first few entries in the \"words_list\" column\n",
    "# df['words_list'].head()"
   ]
  },
  {
   "cell_type": "code",
   "execution_count": 5,
   "metadata": {},
   "outputs": [],
   "source": [
    "# from keras.preprocessing.sequence import pad_sequences\n",
    "\n",
    "# # Building a vocabulary by assigning a unique integer to each word\n",
    "# vocab = {word: idx + 1 for idx, word in enumerate(set(word for words in df['words_list'] for word in words))}\n",
    "\n",
    "# # Transforming the words into sequences of integers\n",
    "# sequences = [[vocab[word] for word in words] for words in df['words_list']]\n",
    "\n",
    "# # Padding the sequences to make them of the same length\n",
    "# padded_sequences = pad_sequences(sequences, padding='post')\n",
    "\n",
    "# # Displaying the shape of the padded sequences\n",
    "# padded_sequences.shape\n"
   ]
  },
  {
   "cell_type": "code",
   "execution_count": 6,
   "metadata": {},
   "outputs": [],
   "source": [
    "# from sklearn.preprocessing import LabelEncoder\n",
    "\n",
    "# # Encoding the target variable (sentiment)\n",
    "# label_encoder = LabelEncoder()\n",
    "# encoded_labels = label_encoder.fit_transform(df['sentiment'])\n",
    "\n",
    "# # Displaying the unique classes and their corresponding encoded values\n",
    "# label_mapping = {label: idx for idx, label in enumerate(label_encoder.classes_)}\n",
    "# label_mapping, encoded_labels[:5]\n"
   ]
  },
  {
   "cell_type": "code",
   "execution_count": 7,
   "metadata": {},
   "outputs": [],
   "source": [
    "# from sklearn.model_selection import train_test_split\n",
    "\n",
    "# # Splitting the data into training and validation sets (80% training, 20% validation)\n",
    "# X_train, X_val, y_train, y_val = train_test_split(padded_sequences, encoded_labels, test_size=0.2, random_state=42)\n",
    "\n",
    "# # Displaying the shape of the training and validation sets\n",
    "# X_train.shape, X_val.shape, y_train.shape, y_val.shape"
   ]
  },
  {
   "cell_type": "code",
   "execution_count": 8,
   "metadata": {},
   "outputs": [
    {
     "name": "stdout",
     "output_type": "stream",
     "text": [
      "(6400, 38) (1600, 38) (6400,) (1600,)\n"
     ]
    }
   ],
   "source": [
    "from keras.preprocessing.text import Tokenizer\n",
    "from keras.preprocessing.sequence import pad_sequences\n",
    "from sklearn.model_selection import train_test_split\n",
    "from sklearn.preprocessing import LabelEncoder\n",
    "\n",
    "# Concatenate the words in the 'words_list' column to create sentences\n",
    "df['sentences'] = df['words'].apply(lambda words: ' '.join(eval(words)))\n",
    "df_test['sentences'] = df_test['words'].apply(lambda words: ' '.join(eval(words)))\n",
    "\n",
    "# Initialize the tokenizer with a specific vocabulary size\n",
    "vocab_size = 500000\n",
    "tokenizer = Tokenizer(num_words=vocab_size, oov_token=\"<OOV>\")\n",
    "tokenizer.fit_on_texts(df['sentences'])\n",
    "\n",
    "# Transform the text into sequences of integers\n",
    "sequences = tokenizer.texts_to_sequences(df['sentences'])\n",
    "\n",
    "# Pad the sequences to make them of the same length\n",
    "padded_sequences = pad_sequences(sequences, padding='post')\n",
    "\n",
    "# Encode the target variable (sentiment)\n",
    "label_encoder = LabelEncoder()\n",
    "encoded_labels = label_encoder.fit_transform(df['sentiment'])\n",
    "\n",
    "# Split the data into training and validation sets\n",
    "X_train, X_val, y_train, y_val = train_test_split(padded_sequences, encoded_labels, test_size=0.2, random_state=42)\n",
    "\n",
    "# Display the shape of the training and validation sets\n",
    "print(X_train.shape, X_val.shape, y_train.shape, y_val.shape)\n",
    "\n",
    "\n",
    "max_length = X_train.shape[1]"
   ]
  },
  {
   "cell_type": "markdown",
   "metadata": {},
   "source": [
    "# Classification"
   ]
  },
  {
   "cell_type": "code",
   "execution_count": 9,
   "metadata": {},
   "outputs": [],
   "source": [
    "from tensorflow.keras.models import Sequential\n",
    "from tensorflow.keras.layers import Embedding, LSTM, Dense, Bidirectional\n",
    "from tensorflow.keras.metrics import Precision, Recall\n",
    "from tensorflow.keras.optimizers import Adam\n",
    "from sklearn.metrics import f1_score\n",
    "from tensorflow.keras.models import Sequential\n",
    "from tensorflow.keras.layers import Embedding, Dropout\n",
    "from tensorflow.keras.constraints import max_norm\n",
    "from tensorflow.keras import regularizers\n",
    "from sklearn.utils.class_weight import compute_class_weight\n",
    "from tensorflow.keras import backend as K\n",
    "from sklearn.metrics import confusion_matrix\n",
    "import seaborn as sns\n",
    "import matplotlib.pyplot as plt\n",
    "from sklearn.metrics import classification_report\n",
    "from keras.callbacks import EarlyStopping\n"
   ]
  },
  {
   "cell_type": "code",
   "execution_count": 10,
   "metadata": {},
   "outputs": [],
   "source": [
    "from keras.initializers import RandomNormal\n",
    "\n",
    "initializer_rand_nor = RandomNormal(mean=0.0, stddev=0.05, seed=42)\n",
    "\n",
    "from keras.initializers import RandomUniform\n",
    "\n",
    "initializer_rand_unf = RandomUniform(minval=-0.05, maxval=0.05, seed=42)\n",
    "\n",
    "from keras.initializers import Zeros\n",
    "\n",
    "initializer_zero = Zeros()\n",
    "\n",
    "from keras.initializers import Ones\n",
    "\n",
    "initializer_one = Ones()\n",
    "\n",
    "from keras.initializers import glorot_uniform\n",
    "\n",
    "initializer_glorot = glorot_uniform(seed=42)\n",
    "\n",
    "from keras.initializers import he_normal\n",
    "\n",
    "initializer_he = he_normal(seed=42)"
   ]
  },
  {
   "cell_type": "code",
   "execution_count": 11,
   "metadata": {},
   "outputs": [
    {
     "name": "stderr",
     "output_type": "stream",
     "text": [
      "2023-08-09 13:52:42.162863: I tensorflow/compiler/xla/stream_executor/cuda/cuda_gpu_executor.cc:995] successful NUMA node read from SysFS had negative value (-1), but there must be at least one NUMA node, so returning NUMA node zero. See more at https://github.com/torvalds/linux/blob/v6.0/Documentation/ABI/testing/sysfs-bus-pci#L344-L355\n",
      "2023-08-09 13:52:42.180255: I tensorflow/compiler/xla/stream_executor/cuda/cuda_gpu_executor.cc:995] successful NUMA node read from SysFS had negative value (-1), but there must be at least one NUMA node, so returning NUMA node zero. See more at https://github.com/torvalds/linux/blob/v6.0/Documentation/ABI/testing/sysfs-bus-pci#L344-L355\n",
      "2023-08-09 13:52:42.180508: I tensorflow/compiler/xla/stream_executor/cuda/cuda_gpu_executor.cc:995] successful NUMA node read from SysFS had negative value (-1), but there must be at least one NUMA node, so returning NUMA node zero. See more at https://github.com/torvalds/linux/blob/v6.0/Documentation/ABI/testing/sysfs-bus-pci#L344-L355\n",
      "2023-08-09 13:52:42.186862: I tensorflow/compiler/xla/stream_executor/cuda/cuda_gpu_executor.cc:995] successful NUMA node read from SysFS had negative value (-1), but there must be at least one NUMA node, so returning NUMA node zero. See more at https://github.com/torvalds/linux/blob/v6.0/Documentation/ABI/testing/sysfs-bus-pci#L344-L355\n",
      "2023-08-09 13:52:42.187139: I tensorflow/compiler/xla/stream_executor/cuda/cuda_gpu_executor.cc:995] successful NUMA node read from SysFS had negative value (-1), but there must be at least one NUMA node, so returning NUMA node zero. See more at https://github.com/torvalds/linux/blob/v6.0/Documentation/ABI/testing/sysfs-bus-pci#L344-L355\n",
      "2023-08-09 13:52:42.187302: I tensorflow/compiler/xla/stream_executor/cuda/cuda_gpu_executor.cc:995] successful NUMA node read from SysFS had negative value (-1), but there must be at least one NUMA node, so returning NUMA node zero. See more at https://github.com/torvalds/linux/blob/v6.0/Documentation/ABI/testing/sysfs-bus-pci#L344-L355\n",
      "2023-08-09 13:52:42.695676: I tensorflow/compiler/xla/stream_executor/cuda/cuda_gpu_executor.cc:995] successful NUMA node read from SysFS had negative value (-1), but there must be at least one NUMA node, so returning NUMA node zero. See more at https://github.com/torvalds/linux/blob/v6.0/Documentation/ABI/testing/sysfs-bus-pci#L344-L355\n",
      "2023-08-09 13:52:42.695935: I tensorflow/compiler/xla/stream_executor/cuda/cuda_gpu_executor.cc:995] successful NUMA node read from SysFS had negative value (-1), but there must be at least one NUMA node, so returning NUMA node zero. See more at https://github.com/torvalds/linux/blob/v6.0/Documentation/ABI/testing/sysfs-bus-pci#L344-L355\n",
      "2023-08-09 13:52:42.696105: I tensorflow/compiler/xla/stream_executor/cuda/cuda_gpu_executor.cc:995] successful NUMA node read from SysFS had negative value (-1), but there must be at least one NUMA node, so returning NUMA node zero. See more at https://github.com/torvalds/linux/blob/v6.0/Documentation/ABI/testing/sysfs-bus-pci#L344-L355\n",
      "2023-08-09 13:52:42.696240: I tensorflow/core/common_runtime/gpu/gpu_device.cc:1639] Created device /job:localhost/replica:0/task:0/device:GPU:0 with 38374 MB memory:  -> device: 0, name: NVIDIA A100-SXM4-40GB, pci bus id: 0000:07:00.0, compute capability: 8.0\n"
     ]
    }
   ],
   "source": [
    "# Define the LSTM model\n",
    "vocab_size = 500000\n",
    "embedding_dim = 50\n",
    "\n",
    "# If you have a specific regularization value in mind (e.g., L1 or L2), you can define it as follows:\n",
    "regularise = regularizers.l2(0.01)\n",
    "\n",
    "model = Sequential([\n",
    "    Embedding(vocab_size, 128, input_length=max_length),\n",
    "    Dropout(0.5),\n",
    "    LSTM(32,kernel_constraint=max_norm(3)),\n",
    "    Dense(32,activation='relu'),\n",
    "    Dropout(0.5),\n",
    "    Dense(3,activation='softmax'),\n",
    "])\n"
   ]
  },
  {
   "cell_type": "code",
   "execution_count": 12,
   "metadata": {},
   "outputs": [],
   "source": [
    "from tensorflow.keras.utils import to_categorical\n",
    "\n",
    "y_train_one_hot = to_categorical(y_train, num_classes=3)\n",
    "y_val_one_hot = to_categorical(y_val, num_classes=3)"
   ]
  },
  {
   "cell_type": "code",
   "execution_count": 13,
   "metadata": {},
   "outputs": [
    {
     "name": "stdout",
     "output_type": "stream",
     "text": [
      "Epoch 1/30\n"
     ]
    },
    {
     "name": "stderr",
     "output_type": "stream",
     "text": [
      "2023-08-09 13:52:45.385396: I tensorflow/compiler/xla/stream_executor/cuda/cuda_dnn.cc:432] Loaded cuDNN version 8900\n",
      "2023-08-09 13:52:45.508141: I tensorflow/compiler/xla/stream_executor/cuda/cuda_blas.cc:606] TensorFloat-32 will be used for the matrix multiplication. This will only be logged once.\n",
      "2023-08-09 13:52:45.510003: I tensorflow/compiler/xla/service/service.cc:168] XLA service 0x7f7663fcb100 initialized for platform CUDA (this does not guarantee that XLA will be used). Devices:\n",
      "2023-08-09 13:52:45.510029: I tensorflow/compiler/xla/service/service.cc:176]   StreamExecutor device (0): NVIDIA A100-SXM4-40GB, Compute Capability 8.0\n",
      "2023-08-09 13:52:45.516914: I tensorflow/compiler/mlir/tensorflow/utils/dump_mlir_util.cc:255] disabling MLIR crash reproducer, set env var `MLIR_CRASH_REPRODUCER_DIRECTORY` to enable.\n",
      "2023-08-09 13:52:45.650404: I ./tensorflow/compiler/jit/device_compiler.h:186] Compiled cluster using XLA!  This line is logged at most once for the lifetime of the process.\n"
     ]
    },
    {
     "name": "stdout",
     "output_type": "stream",
     "text": [
      "200/200 [==============================] - 24s 104ms/step - loss: 0.8552 - accuracy: 0.6352 - val_loss: 0.7711 - val_accuracy: 0.6812\n",
      "Epoch 2/30\n",
      "200/200 [==============================] - 8s 40ms/step - loss: 0.8146 - accuracy: 0.6580 - val_loss: 0.6798 - val_accuracy: 0.7306\n",
      "Epoch 3/30\n",
      "200/200 [==============================] - 4s 19ms/step - loss: 0.5842 - accuracy: 0.7783 - val_loss: 0.6010 - val_accuracy: 0.7862\n",
      "Epoch 4/30\n",
      "200/200 [==============================] - 3s 15ms/step - loss: 0.3866 - accuracy: 0.8786 - val_loss: 0.6729 - val_accuracy: 0.7819\n",
      "Epoch 5/30\n",
      "200/200 [==============================] - 3s 14ms/step - loss: 0.2841 - accuracy: 0.9058 - val_loss: 0.7138 - val_accuracy: 0.8019\n",
      "Epoch 6/30\n",
      "200/200 [==============================] - 3s 14ms/step - loss: 0.2067 - accuracy: 0.9388 - val_loss: 0.8596 - val_accuracy: 0.7962\n",
      "Epoch 7/30\n",
      "200/200 [==============================] - 2s 12ms/step - loss: 0.1531 - accuracy: 0.9570 - val_loss: 1.0070 - val_accuracy: 0.7894\n",
      "Epoch 8/30\n",
      "200/200 [==============================] - 2s 8ms/step - loss: 0.1242 - accuracy: 0.9641 - val_loss: 0.9566 - val_accuracy: 0.7875\n",
      "Epoch 9/30\n",
      "200/200 [==============================] - 2s 10ms/step - loss: 0.0906 - accuracy: 0.9748 - val_loss: 1.3714 - val_accuracy: 0.7881\n",
      "Epoch 10/30\n",
      "200/200 [==============================] - 2s 9ms/step - loss: 0.0852 - accuracy: 0.9778 - val_loss: 1.3201 - val_accuracy: 0.7788\n",
      "Epoch 11/30\n",
      "200/200 [==============================] - 2s 10ms/step - loss: 0.0654 - accuracy: 0.9822 - val_loss: 1.3951 - val_accuracy: 0.7894\n",
      "Epoch 12/30\n",
      "200/200 [==============================] - 2s 10ms/step - loss: 0.0639 - accuracy: 0.9825 - val_loss: 1.3939 - val_accuracy: 0.7994\n",
      "Epoch 13/30\n",
      "200/200 [==============================] - 2s 8ms/step - loss: 0.0510 - accuracy: 0.9872 - val_loss: 1.4106 - val_accuracy: 0.7812\n",
      "Epoch 14/30\n",
      "200/200 [==============================] - 2s 9ms/step - loss: 0.0559 - accuracy: 0.9856 - val_loss: 1.4960 - val_accuracy: 0.7962\n",
      "Epoch 15/30\n",
      "200/200 [==============================] - 1s 7ms/step - loss: 0.0527 - accuracy: 0.9880 - val_loss: 1.7287 - val_accuracy: 0.7931\n",
      "Epoch 16/30\n",
      "200/200 [==============================] - 2s 11ms/step - loss: 0.0443 - accuracy: 0.9887 - val_loss: 1.7369 - val_accuracy: 0.7906\n",
      "Epoch 17/30\n",
      "200/200 [==============================] - 2s 8ms/step - loss: 0.0449 - accuracy: 0.9920 - val_loss: 1.7673 - val_accuracy: 0.7894\n",
      "Epoch 18/30\n",
      "200/200 [==============================] - 2s 8ms/step - loss: 0.0363 - accuracy: 0.9917 - val_loss: 1.6779 - val_accuracy: 0.7925\n",
      "Epoch 19/30\n",
      "200/200 [==============================] - 1s 7ms/step - loss: 0.0441 - accuracy: 0.9895 - val_loss: 1.7031 - val_accuracy: 0.7831\n",
      "Epoch 20/30\n",
      "200/200 [==============================] - 2s 9ms/step - loss: 0.0235 - accuracy: 0.9955 - val_loss: 2.1148 - val_accuracy: 0.7944\n",
      "Epoch 21/30\n",
      "200/200 [==============================] - 2s 9ms/step - loss: 0.0375 - accuracy: 0.9931 - val_loss: 1.8163 - val_accuracy: 0.7706\n",
      "Epoch 22/30\n",
      "200/200 [==============================] - 1s 7ms/step - loss: 0.0255 - accuracy: 0.9955 - val_loss: 1.4992 - val_accuracy: 0.7825\n",
      "Epoch 23/30\n",
      "200/200 [==============================] - 2s 8ms/step - loss: 0.0297 - accuracy: 0.9941 - val_loss: 1.8982 - val_accuracy: 0.7763\n",
      "Epoch 24/30\n",
      "200/200 [==============================] - 1s 7ms/step - loss: 0.0145 - accuracy: 0.9962 - val_loss: 2.3129 - val_accuracy: 0.7875\n",
      "Epoch 25/30\n",
      "200/200 [==============================] - 2s 8ms/step - loss: 0.0189 - accuracy: 0.9964 - val_loss: 1.9868 - val_accuracy: 0.7806\n",
      "Epoch 26/30\n",
      "200/200 [==============================] - 2s 8ms/step - loss: 0.0161 - accuracy: 0.9962 - val_loss: 2.4363 - val_accuracy: 0.7788\n",
      "Epoch 27/30\n",
      "200/200 [==============================] - 1s 7ms/step - loss: 0.0184 - accuracy: 0.9962 - val_loss: 2.6009 - val_accuracy: 0.7856\n",
      "Epoch 28/30\n",
      "200/200 [==============================] - 1s 7ms/step - loss: 0.0380 - accuracy: 0.9878 - val_loss: 1.9991 - val_accuracy: 0.7581\n",
      "Epoch 29/30\n",
      "200/200 [==============================] - 2s 8ms/step - loss: 0.0439 - accuracy: 0.9914 - val_loss: 1.8743 - val_accuracy: 0.7887\n",
      "Epoch 30/30\n",
      "200/200 [==============================] - 2s 8ms/step - loss: 0.0207 - accuracy: 0.9941 - val_loss: 2.0533 - val_accuracy: 0.7875\n"
     ]
    }
   ],
   "source": [
    "# Compile the model\n",
    "model.compile(loss='categorical_crossentropy', optimizer='adam', metrics=['accuracy'])\n",
    "\n",
    "class_weights = compute_class_weight('balanced', classes=[0, 1, 2], y=y_train)\n",
    "class_weights = {i: weight for i, weight in enumerate(class_weights)}\n",
    "# Define the early stopping callback\n",
    "early_stopping = EarlyStopping(monitor='val_loss', patience=3)\n",
    "\n",
    "\n",
    "# Train the model with the early stopping callback\n",
    "history = model.fit(X_train, y_train_one_hot, \n",
    "                    validation_data=(X_val, y_val_one_hot), \n",
    "                    epochs=30, \n",
    "                    batch_size=32)\n",
    "\n"
   ]
  },
  {
   "cell_type": "code",
   "execution_count": 14,
   "metadata": {},
   "outputs": [
    {
     "name": "stdout",
     "output_type": "stream",
     "text": [
      "50/50 [==============================] - 0s 2ms/step\n"
     ]
    },
    {
     "data": {
      "image/png": "[encoded data removed]",
      "text/plain": [
       "<Figure size 640x480 with 2 Axes>"
      ]
     },
     "metadata": {},
     "output_type": "display_data"
    }
   ],
   "source": [
    "# Evaluate the model on validation data\n",
    "val_predictions = model.predict(X_val).argmax(axis=1)\n",
    "# Plot the confusion matrix\n",
    "conf_matrix = confusion_matrix(y_val, val_predictions)\n",
    "sns.heatmap(conf_matrix, annot=True, fmt='d', cmap=plt.cm.Blues)\n",
    "plt.xlabel('Predicted')\n",
    "plt.ylabel('True')\n",
    "plt.show()"
   ]
  },
  {
   "cell_type": "code",
   "execution_count": 15,
   "metadata": {},
   "outputs": [
    {
     "name": "stdout",
     "output_type": "stream",
     "text": [
      "              precision    recall  f1-score   support\n",
      "\n",
      "           0       0.47      0.20      0.28        87\n",
      "           1       0.82      0.90      0.86      1090\n",
      "           2       0.70      0.63      0.66       423\n",
      "\n",
      "    accuracy                           0.79      1600\n",
      "   macro avg       0.67      0.57      0.60      1600\n",
      "weighted avg       0.77      0.79      0.78      1600\n",
      "\n"
     ]
    }
   ],
   "source": [
    "print(classification_report(y_val, val_predictions))"
   ]
  },
  {
   "cell_type": "markdown",
   "metadata": {},
   "source": [
    "# Model 2"
   ]
  },
  {
   "cell_type": "code",
   "execution_count": 16,
   "metadata": {},
   "outputs": [
    {
     "name": "stdout",
     "output_type": "stream",
     "text": [
      "Epoch 1/30\n",
      "160/160 [==============================] - 19s 95ms/step - loss: 0.8519 - accuracy: 0.6297 - val_loss: 0.7182 - val_accuracy: 0.6727\n",
      "Epoch 2/30\n",
      "160/160 [==============================] - 7s 45ms/step - loss: 0.6010 - accuracy: 0.7752 - val_loss: 0.6214 - val_accuracy: 0.7641\n",
      "Epoch 3/30\n",
      "160/160 [==============================] - 4s 26ms/step - loss: 0.3000 - accuracy: 0.9055 - val_loss: 0.7107 - val_accuracy: 0.7492\n",
      "Epoch 4/30\n",
      "160/160 [==============================] - 3s 18ms/step - loss: 0.1193 - accuracy: 0.9656 - val_loss: 1.0260 - val_accuracy: 0.7523\n",
      "Epoch 5/30\n",
      "160/160 [==============================] - 3s 19ms/step - loss: 0.0535 - accuracy: 0.9873 - val_loss: 1.4545 - val_accuracy: 0.7453\n",
      "Epoch 6/30\n",
      "160/160 [==============================] - 4s 22ms/step - loss: 0.0363 - accuracy: 0.9916 - val_loss: 1.5186 - val_accuracy: 0.7430\n",
      "Epoch 7/30\n",
      "160/160 [==============================] - 3s 17ms/step - loss: 0.0292 - accuracy: 0.9916 - val_loss: 1.8406 - val_accuracy: 0.7547\n",
      "Epoch 8/30\n",
      "160/160 [==============================] - 2s 14ms/step - loss: 0.0239 - accuracy: 0.9937 - val_loss: 1.7739 - val_accuracy: 0.7578\n",
      "Epoch 9/30\n",
      "160/160 [==============================] - 2s 14ms/step - loss: 0.0137 - accuracy: 0.9969 - val_loss: 1.9082 - val_accuracy: 0.7570\n",
      "Epoch 10/30\n",
      "160/160 [==============================] - 3s 16ms/step - loss: 0.0122 - accuracy: 0.9975 - val_loss: 2.1480 - val_accuracy: 0.7555\n",
      "Epoch 11/30\n",
      "160/160 [==============================] - 2s 16ms/step - loss: 0.0102 - accuracy: 0.9979 - val_loss: 2.2554 - val_accuracy: 0.7727\n",
      "Epoch 12/30\n",
      "160/160 [==============================] - 3s 17ms/step - loss: 0.0072 - accuracy: 0.9986 - val_loss: 2.4396 - val_accuracy: 0.7594\n",
      "Epoch 13/30\n",
      "160/160 [==============================] - 2s 15ms/step - loss: 0.0070 - accuracy: 0.9982 - val_loss: 2.7311 - val_accuracy: 0.7609\n",
      "Epoch 14/30\n",
      "160/160 [==============================] - 3s 19ms/step - loss: 0.0144 - accuracy: 0.9959 - val_loss: 2.0967 - val_accuracy: 0.7508\n",
      "Epoch 15/30\n",
      "160/160 [==============================] - 2s 14ms/step - loss: 0.0302 - accuracy: 0.9926 - val_loss: 1.6928 - val_accuracy: 0.7648\n",
      "Epoch 16/30\n",
      "160/160 [==============================] - 2s 15ms/step - loss: 0.0200 - accuracy: 0.9959 - val_loss: 1.7312 - val_accuracy: 0.7453\n",
      "Epoch 17/30\n",
      "160/160 [==============================] - 2s 15ms/step - loss: 0.0116 - accuracy: 0.9969 - val_loss: 2.3648 - val_accuracy: 0.7359\n",
      "Epoch 18/30\n",
      "160/160 [==============================] - 2s 15ms/step - loss: 0.0079 - accuracy: 0.9973 - val_loss: 2.5995 - val_accuracy: 0.7508\n",
      "Epoch 19/30\n",
      "160/160 [==============================] - 2s 14ms/step - loss: 0.0044 - accuracy: 0.9984 - val_loss: 2.8237 - val_accuracy: 0.7516\n",
      "Epoch 20/30\n",
      "160/160 [==============================] - 2s 14ms/step - loss: 0.0057 - accuracy: 0.9982 - val_loss: 2.8938 - val_accuracy: 0.7508\n",
      "Epoch 21/30\n",
      "160/160 [==============================] - 3s 16ms/step - loss: 0.0042 - accuracy: 0.9990 - val_loss: 3.0811 - val_accuracy: 0.7563\n",
      "Epoch 22/30\n",
      "160/160 [==============================] - 3s 16ms/step - loss: 0.0060 - accuracy: 0.9988 - val_loss: 3.0480 - val_accuracy: 0.7539\n",
      "Epoch 23/30\n",
      "160/160 [==============================] - 2s 14ms/step - loss: 0.0046 - accuracy: 0.9986 - val_loss: 3.2514 - val_accuracy: 0.7563\n",
      "Epoch 24/30\n",
      "160/160 [==============================] - 2s 15ms/step - loss: 0.0036 - accuracy: 0.9984 - val_loss: 3.3441 - val_accuracy: 0.7531\n",
      "Epoch 25/30\n",
      "160/160 [==============================] - 2s 14ms/step - loss: 0.0038 - accuracy: 0.9984 - val_loss: 3.4777 - val_accuracy: 0.7516\n",
      "Epoch 26/30\n",
      "160/160 [==============================] - 2s 14ms/step - loss: 0.0126 - accuracy: 0.9969 - val_loss: 2.8763 - val_accuracy: 0.7547\n",
      "Epoch 27/30\n",
      "160/160 [==============================] - 2s 14ms/step - loss: 0.0081 - accuracy: 0.9973 - val_loss: 3.4876 - val_accuracy: 0.7227\n",
      "Epoch 28/30\n",
      "160/160 [==============================] - 2s 14ms/step - loss: 0.0279 - accuracy: 0.9943 - val_loss: 2.0519 - val_accuracy: 0.7203\n",
      "Epoch 29/30\n",
      "160/160 [==============================] - 2s 14ms/step - loss: 0.0155 - accuracy: 0.9959 - val_loss: 2.1943 - val_accuracy: 0.7320\n",
      "Epoch 30/30\n",
      "160/160 [==============================] - 2s 14ms/step - loss: 0.0096 - accuracy: 0.9967 - val_loss: 2.4290 - val_accuracy: 0.7406\n"
     ]
    }
   ],
   "source": [
    "# Define the vocabulary size\n",
    "vocab_size = 500000\n",
    "\n",
    "# Build the model\n",
    "model2 = Sequential([\n",
    "    Embedding(vocab_size, 128, input_length=max_length),\n",
    "    Bidirectional(LSTM(128, return_sequences=True)),\n",
    "    Bidirectional(LSTM(32)),\n",
    "    Dense(32, activation='relu'),\n",
    "    Dropout(0.5),\n",
    "    Dense(3, activation='softmax'),\n",
    "])\n",
    "\n",
    "# Compile the model\n",
    "model2.compile(loss='categorical_crossentropy', optimizer='adam', metrics=['accuracy'])\n",
    "\n",
    "# Define the early stopping callback\n",
    "early_stopping = EarlyStopping(monitor='val_loss', patience=3)\n",
    "\n",
    "# Fit the model\n",
    "history2 = model2.fit(X_train, y_train_one_hot, epochs=30, validation_split=0.2)"
   ]
  },
  {
   "cell_type": "code",
   "execution_count": 17,
   "metadata": {},
   "outputs": [
    {
     "name": "stdout",
     "output_type": "stream",
     "text": [
      "50/50 [==============================] - 1s 4ms/step\n"
     ]
    },
    {
     "data": {
      "image/png": "[encoded data removed]",
      "text/plain": [
       "<Figure size 640x480 with 2 Axes>"
      ]
     },
     "metadata": {},
     "output_type": "display_data"
    }
   ],
   "source": [
    "# Evaluate the model on validation data\n",
    "val_predictions = model2.predict(X_val).argmax(axis=1)\n",
    "# Plot the confusion matrix\n",
    "conf_matrix = confusion_matrix(y_val, val_predictions)\n",
    "sns.heatmap(conf_matrix, annot=True, fmt='d', cmap=plt.cm.Blues)\n",
    "plt.xlabel('Predicted')\n",
    "plt.ylabel('True')\n",
    "plt.show()"
   ]
  },
  {
   "cell_type": "code",
   "execution_count": 18,
   "metadata": {},
   "outputs": [
    {
     "name": "stdout",
     "output_type": "stream",
     "text": [
      "              precision    recall  f1-score   support\n",
      "\n",
      "           0       0.29      0.20      0.23        87\n",
      "           1       0.82      0.85      0.83      1090\n",
      "           2       0.62      0.62      0.62       423\n",
      "\n",
      "    accuracy                           0.75      1600\n",
      "   macro avg       0.58      0.55      0.56      1600\n",
      "weighted avg       0.74      0.75      0.74      1600\n",
      "\n"
     ]
    }
   ],
   "source": [
    "print(classification_report(y_val, val_predictions))"
   ]
  },
  {
   "cell_type": "markdown",
   "metadata": {},
   "source": [
    "# Model 3"
   ]
  },
  {
   "cell_type": "code",
   "execution_count": 19,
   "metadata": {},
   "outputs": [],
   "source": [
    "# Define the LSTM model\n",
    "vocab_size = 500000\n",
    "embedding_dim = 50\n",
    "\n",
    "model3 = Sequential([\n",
    "    Embedding(vocab_size, embedding_dim, input_length=max_length),\n",
    "    LSTM(64, return_sequences=True),\n",
    "    LSTM(32),\n",
    "    Dense(3, activation='softmax'),\n",
    "])\n",
    "# Compile the model\n",
    "model3.compile(optimizer='adam', loss='sparse_categorical_crossentropy', metrics=['accuracy'])\n"
   ]
  },
  {
   "cell_type": "code",
   "execution_count": 20,
   "metadata": {},
   "outputs": [
    {
     "name": "stdout",
     "output_type": "stream",
     "text": [
      "Epoch 1/30\n"
     ]
    },
    {
     "name": "stdout",
     "output_type": "stream",
     "text": [
      "200/200 [==============================] - 24s 107ms/step - loss: 0.8229 - accuracy: 0.6528 - val_loss: 0.7701 - val_accuracy: 0.6812\n",
      "Epoch 2/30\n",
      "200/200 [==============================] - 8s 38ms/step - loss: 0.6602 - accuracy: 0.7398 - val_loss: 0.6357 - val_accuracy: 0.7494\n",
      "Epoch 3/30\n",
      "200/200 [==============================] - 3s 16ms/step - loss: 0.3040 - accuracy: 0.8973 - val_loss: 0.6192 - val_accuracy: 0.7738\n",
      "Epoch 4/30\n",
      "200/200 [==============================] - 3s 14ms/step - loss: 0.1302 - accuracy: 0.9605 - val_loss: 0.8809 - val_accuracy: 0.7694\n",
      "Epoch 5/30\n",
      "200/200 [==============================] - 3s 17ms/step - loss: 0.0720 - accuracy: 0.9800 - val_loss: 0.8744 - val_accuracy: 0.7694\n",
      "Epoch 6/30\n",
      "200/200 [==============================] - 3s 15ms/step - loss: 0.0465 - accuracy: 0.9870 - val_loss: 0.9097 - val_accuracy: 0.7681\n",
      "Epoch 7/30\n",
      "200/200 [==============================] - 2s 8ms/step - loss: 0.0332 - accuracy: 0.9922 - val_loss: 1.1341 - val_accuracy: 0.7594\n",
      "Epoch 8/30\n",
      "200/200 [==============================] - 2s 10ms/step - loss: 0.0334 - accuracy: 0.9909 - val_loss: 1.1586 - val_accuracy: 0.7444\n",
      "Epoch 9/30\n",
      "200/200 [==============================] - 2s 8ms/step - loss: 0.0158 - accuracy: 0.9959 - val_loss: 1.3417 - val_accuracy: 0.7469\n",
      "Epoch 10/30\n",
      "200/200 [==============================] - 2s 10ms/step - loss: 0.0209 - accuracy: 0.9931 - val_loss: 1.4487 - val_accuracy: 0.7400\n",
      "Epoch 11/30\n",
      "200/200 [==============================] - 2s 10ms/step - loss: 0.0230 - accuracy: 0.9947 - val_loss: 1.3069 - val_accuracy: 0.7650\n",
      "Epoch 12/30\n",
      "200/200 [==============================] - 2s 11ms/step - loss: 0.0246 - accuracy: 0.9942 - val_loss: 1.5172 - val_accuracy: 0.7694\n",
      "Epoch 13/30\n",
      "200/200 [==============================] - 2s 9ms/step - loss: 0.0192 - accuracy: 0.9955 - val_loss: 1.3588 - val_accuracy: 0.7519\n",
      "Epoch 14/30\n",
      "200/200 [==============================] - 2s 11ms/step - loss: 0.0226 - accuracy: 0.9950 - val_loss: 1.4502 - val_accuracy: 0.7531\n",
      "Epoch 15/30\n",
      "200/200 [==============================] - 1s 7ms/step - loss: 0.0462 - accuracy: 0.9881 - val_loss: 1.1502 - val_accuracy: 0.7625\n",
      "Epoch 16/30\n",
      "200/200 [==============================] - 1s 7ms/step - loss: 0.0184 - accuracy: 0.9956 - val_loss: 1.5116 - val_accuracy: 0.7394\n",
      "Epoch 17/30\n",
      "200/200 [==============================] - 2s 8ms/step - loss: 0.0157 - accuracy: 0.9959 - val_loss: 1.6303 - val_accuracy: 0.7506\n",
      "Epoch 18/30\n",
      "200/200 [==============================] - 2s 9ms/step - loss: 0.0134 - accuracy: 0.9962 - val_loss: 1.5673 - val_accuracy: 0.7519\n",
      "Epoch 19/30\n",
      "200/200 [==============================] - 2s 10ms/step - loss: 0.0110 - accuracy: 0.9973 - val_loss: 1.5252 - val_accuracy: 0.7519\n",
      "Epoch 20/30\n",
      "200/200 [==============================] - 2s 10ms/step - loss: 0.0107 - accuracy: 0.9981 - val_loss: 1.5283 - val_accuracy: 0.7444\n",
      "Epoch 21/30\n",
      "200/200 [==============================] - 1s 7ms/step - loss: 0.0049 - accuracy: 0.9987 - val_loss: 1.6867 - val_accuracy: 0.7525\n",
      "Epoch 22/30\n",
      "200/200 [==============================] - 2s 8ms/step - loss: 0.0090 - accuracy: 0.9983 - val_loss: 1.7845 - val_accuracy: 0.7475\n",
      "Epoch 23/30\n",
      "200/200 [==============================] - 2s 9ms/step - loss: 0.0146 - accuracy: 0.9975 - val_loss: 1.9062 - val_accuracy: 0.6825\n",
      "Epoch 24/30\n",
      "200/200 [==============================] - 2s 8ms/step - loss: 0.0594 - accuracy: 0.9866 - val_loss: 1.3361 - val_accuracy: 0.7356\n",
      "Epoch 25/30\n",
      "200/200 [==============================] - 1s 7ms/step - loss: 0.0534 - accuracy: 0.9844 - val_loss: 1.2979 - val_accuracy: 0.7544\n",
      "Epoch 26/30\n",
      "200/200 [==============================] - 2s 8ms/step - loss: 0.0182 - accuracy: 0.9945 - val_loss: 1.6363 - val_accuracy: 0.7312\n",
      "Epoch 27/30\n",
      "200/200 [==============================] - 1s 7ms/step - loss: 0.0158 - accuracy: 0.9958 - val_loss: 1.4912 - val_accuracy: 0.7375\n",
      "Epoch 28/30\n",
      "200/200 [==============================] - 2s 8ms/step - loss: 0.0165 - accuracy: 0.9962 - val_loss: 1.5105 - val_accuracy: 0.7419\n",
      "Epoch 29/30\n",
      "200/200 [==============================] - 2s 8ms/step - loss: 0.0072 - accuracy: 0.9983 - val_loss: 1.7252 - val_accuracy: 0.7444\n",
      "Epoch 30/30\n",
      "200/200 [==============================] - 1s 7ms/step - loss: 0.0052 - accuracy: 0.9987 - val_loss: 1.5639 - val_accuracy: 0.7381\n"
     ]
    }
   ],
   "source": [
    "# Train the model\n",
    "history3 = model3.fit(X_train, y_train, validation_data=(X_val, y_val), epochs=30, batch_size=32)"
   ]
  },
  {
   "cell_type": "code",
   "execution_count": 21,
   "metadata": {},
   "outputs": [
    {
     "name": "stdout",
     "output_type": "stream",
     "text": [
      "50/50 [==============================] - 1s 2ms/step\n"
     ]
    },
    {
     "data": {
      "image/png": "[encoded data removed]",
      "text/plain": [
       "<Figure size 640x480 with 2 Axes>"
      ]
     },
     "metadata": {},
     "output_type": "display_data"
    }
   ],
   "source": [
    "# Evaluate the model on validation data\n",
    "val_predictions = model3.predict(X_val).argmax(axis=1)\n",
    "# Plot the confusion matrix\n",
    "conf_matrix = confusion_matrix(y_val, val_predictions)\n",
    "sns.heatmap(conf_matrix, annot=True, fmt='d', cmap=plt.cm.Blues)\n",
    "plt.xlabel('Predicted')\n",
    "plt.ylabel('True')\n",
    "plt.show()"
   ]
  },
  {
   "cell_type": "code",
   "execution_count": 22,
   "metadata": {},
   "outputs": [
    {
     "name": "stdout",
     "output_type": "stream",
     "text": [
      "              precision    recall  f1-score   support\n",
      "\n",
      "           0       0.32      0.24      0.28        87\n",
      "           1       0.84      0.79      0.82      1090\n",
      "           2       0.58      0.70      0.63       423\n",
      "\n",
      "    accuracy                           0.74      1600\n",
      "   macro avg       0.58      0.58      0.58      1600\n",
      "weighted avg       0.75      0.74      0.74      1600\n",
      "\n"
     ]
    }
   ],
   "source": [
    "print(classification_report(y_val, val_predictions))"
   ]
  },
  {
   "cell_type": "markdown",
   "metadata": {},
   "source": [
    "# Test\n"
   ]
  },
  {
   "cell_type": "code",
   "execution_count": 27,
   "metadata": {},
   "outputs": [
    {
     "name": "stdout",
     "output_type": "stream",
     "text": [
      "32/32 [==============================] - 0s 2ms/step\n"
     ]
    }
   ],
   "source": [
    "# Assuming the 'words' column contains lists of words\n",
    "words_test = list(df_test.sentences)\n",
    "\n",
    "# Convert the words to sequences of integers using your existing tokenizer\n",
    "X_test_sequences = tokenizer.texts_to_sequences(words_test)\n",
    "\n",
    "# Pad the sequences to the same length as your training data\n",
    "X_test_padded = pad_sequences(X_test_sequences, maxlen=max_length)\n",
    "\n",
    "# Predict the probabilities for each class\n",
    "y_prob = model.predict(X_test_padded)\n",
    "\n",
    "# Take the class with the highest probability\n",
    "y_hat = np.argmax(y_prob, axis=1)\n",
    "\n",
    "# If you used LabelEncoder to encode the labels, you can reverse transform\n",
    "# the numerical labels back to the original form\n",
    "y_hat = label_encoder.inverse_transform(y_hat)\n",
    "\n",
    "# Create directory if not exists\n",
    "directory = 'lstm_results'\n",
    "if not os.path.exists(directory):\n",
    "    os.makedirs(directory)\n",
    "\n",
    "# Save the results with the format <TEAM_ID>__<SPLIT>_clf_pred.npy\n",
    "np.save(os.path.join(directory, f'{team_id}__{split}__clf_pred.npy'), y_hat)\n"
   ]
  },
  {
   "cell_type": "code",
   "execution_count": 24,
   "metadata": {},
   "outputs": [
    {
     "data": {
      "text/plain": [
       "array(['neutral', 'neutral', 'neutral', 'neutral', 'neutral', 'neutral',\n",
       "       'neutral', 'neutral', 'neutral', 'neutral', 'neutral', 'neutral',\n",
       "       'neutral', 'neutral', 'neutral', 'neutral', 'neutral', 'neutral',\n",
       "       'neutral', 'positive', 'neutral', 'neutral', 'neutral', 'neutral',\n",
       "       'neutral', 'neutral', 'neutral', 'neutral', 'neutral', 'neutral',\n",
       "       'neutral', 'neutral', 'neutral', 'neutral', 'neutral', 'neutral',\n",
       "       'neutral', 'neutral', 'neutral', 'neutral', 'neutral', 'neutral',\n",
       "       'neutral', 'neutral', 'neutral', 'neutral', 'neutral', 'neutral',\n",
       "       'neutral', 'neutral', 'neutral', 'neutral', 'neutral', 'neutral',\n",
       "       'neutral', 'neutral', 'neutral', 'neutral', 'neutral', 'neutral',\n",
       "       'neutral', 'neutral', 'neutral', 'neutral', 'neutral', 'neutral',\n",
       "       'neutral', 'neutral', 'neutral', 'neutral', 'neutral', 'neutral',\n",
       "       'neutral', 'neutral', 'neutral', 'neutral', 'neutral', 'neutral',\n",
       "       'neutral', 'neutral', 'neutral', 'neutral', 'neutral', 'neutral',\n",
       "       'neutral', 'neutral', 'neutral', 'neutral', 'neutral', 'neutral',\n",
       "       'neutral', 'neutral', 'neutral', 'neutral', 'neutral', 'neutral',\n",
       "       'neutral', 'neutral', 'neutral', 'neutral', 'neutral', 'neutral',\n",
       "       'neutral', 'neutral', 'neutral', 'neutral', 'neutral', 'neutral',\n",
       "       'neutral', 'neutral', 'neutral', 'neutral', 'neutral', 'neutral',\n",
       "       'neutral', 'neutral', 'neutral', 'neutral', 'neutral', 'neutral',\n",
       "       'neutral', 'neutral', 'neutral', 'neutral', 'neutral', 'neutral',\n",
       "       'neutral', 'neutral', 'neutral', 'neutral', 'neutral', 'positive',\n",
       "       'neutral', 'neutral', 'neutral', 'neutral', 'neutral', 'neutral',\n",
       "       'neutral', 'neutral', 'neutral', 'neutral', 'neutral', 'neutral',\n",
       "       'neutral', 'neutral', 'neutral', 'neutral', 'neutral', 'neutral',\n",
       "       'neutral', 'neutral', 'neutral', 'neutral', 'neutral', 'neutral',\n",
       "       'neutral', 'neutral', 'neutral', 'neutral', 'neutral', 'neutral',\n",
       "       'neutral', 'neutral', 'neutral', 'neutral', 'neutral', 'neutral',\n",
       "       'neutral', 'neutral', 'neutral', 'neutral', 'neutral', 'neutral',\n",
       "       'neutral', 'neutral', 'neutral', 'neutral', 'neutral', 'neutral',\n",
       "       'neutral', 'neutral', 'neutral', 'neutral', 'neutral', 'neutral',\n",
       "       'neutral', 'neutral', 'neutral', 'neutral', 'neutral', 'neutral',\n",
       "       'neutral', 'neutral', 'neutral', 'neutral', 'neutral', 'neutral',\n",
       "       'neutral', 'neutral', 'neutral', 'neutral', 'neutral', 'neutral',\n",
       "       'neutral', 'neutral', 'neutral', 'neutral', 'neutral', 'neutral',\n",
       "       'neutral', 'neutral', 'neutral', 'neutral', 'neutral', 'neutral',\n",
       "       'neutral', 'neutral', 'neutral', 'neutral', 'neutral', 'neutral',\n",
       "       'neutral', 'neutral', 'neutral', 'neutral', 'neutral', 'neutral',\n",
       "       'neutral', 'neutral', 'neutral', 'neutral', 'neutral', 'neutral',\n",
       "       'neutral', 'neutral', 'neutral', 'neutral', 'neutral', 'neutral',\n",
       "       'neutral', 'neutral', 'neutral', 'neutral', 'neutral', 'neutral',\n",
       "       'neutral', 'neutral', 'neutral', 'neutral', 'neutral', 'neutral',\n",
       "       'neutral', 'neutral', 'neutral', 'neutral', 'neutral', 'neutral',\n",
       "       'neutral', 'neutral', 'neutral', 'neutral', 'neutral', 'negative',\n",
       "       'neutral', 'neutral', 'neutral', 'neutral', 'neutral', 'neutral',\n",
       "       'neutral', 'neutral', 'neutral', 'neutral', 'neutral', 'neutral',\n",
       "       'neutral', 'neutral', 'neutral', 'neutral', 'neutral', 'neutral',\n",
       "       'neutral', 'neutral', 'neutral', 'neutral', 'neutral', 'neutral',\n",
       "       'neutral', 'neutral', 'neutral', 'neutral', 'neutral', 'neutral',\n",
       "       'neutral', 'neutral', 'neutral', 'neutral', 'neutral', 'neutral',\n",
       "       'neutral', 'neutral', 'neutral', 'neutral', 'neutral', 'neutral',\n",
       "       'neutral', 'neutral', 'neutral', 'neutral', 'neutral', 'neutral',\n",
       "       'neutral', 'neutral', 'neutral', 'neutral', 'neutral', 'neutral',\n",
       "       'neutral', 'neutral', 'neutral', 'neutral', 'neutral', 'neutral',\n",
       "       'neutral', 'neutral', 'neutral', 'neutral', 'neutral', 'neutral',\n",
       "       'neutral', 'neutral', 'neutral', 'neutral', 'neutral', 'neutral',\n",
       "       'neutral', 'neutral', 'neutral', 'neutral', 'neutral', 'neutral',\n",
       "       'neutral', 'neutral', 'neutral', 'neutral', 'neutral', 'neutral',\n",
       "       'neutral', 'neutral', 'neutral', 'neutral', 'neutral', 'neutral',\n",
       "       'neutral', 'neutral', 'neutral', 'neutral', 'neutral', 'neutral',\n",
       "       'neutral', 'neutral', 'neutral', 'neutral', 'neutral', 'neutral',\n",
       "       'neutral', 'neutral', 'neutral', 'neutral', 'neutral', 'neutral',\n",
       "       'neutral', 'neutral', 'neutral', 'neutral', 'neutral', 'neutral',\n",
       "       'neutral', 'neutral', 'neutral', 'neutral', 'neutral', 'neutral',\n",
       "       'neutral', 'neutral', 'neutral', 'neutral', 'neutral', 'neutral',\n",
       "       'neutral', 'neutral', 'neutral', 'neutral', 'neutral', 'neutral',\n",
       "       'neutral', 'neutral', 'neutral', 'neutral', 'neutral', 'neutral',\n",
       "       'neutral', 'neutral', 'neutral', 'neutral', 'positive', 'neutral',\n",
       "       'neutral', 'neutral', 'neutral', 'neutral', 'neutral', 'neutral',\n",
       "       'neutral', 'neutral', 'neutral', 'neutral', 'neutral', 'neutral',\n",
       "       'neutral', 'neutral', 'neutral', 'neutral', 'neutral', 'neutral',\n",
       "       'neutral', 'neutral', 'neutral', 'neutral', 'neutral', 'neutral',\n",
       "       'neutral', 'neutral', 'neutral', 'neutral', 'neutral', 'neutral',\n",
       "       'neutral', 'neutral', 'neutral', 'neutral', 'neutral', 'neutral',\n",
       "       'neutral', 'neutral', 'neutral', 'neutral', 'neutral', 'neutral',\n",
       "       'neutral', 'neutral', 'neutral', 'neutral', 'neutral', 'neutral',\n",
       "       'neutral', 'neutral', 'neutral', 'neutral', 'neutral', 'neutral',\n",
       "       'neutral', 'neutral', 'neutral', 'neutral', 'neutral', 'neutral',\n",
       "       'neutral', 'neutral', 'neutral', 'neutral', 'neutral', 'neutral',\n",
       "       'neutral', 'neutral', 'neutral', 'neutral', 'neutral', 'neutral',\n",
       "       'neutral', 'neutral', 'neutral', 'neutral', 'neutral', 'neutral',\n",
       "       'neutral', 'neutral', 'neutral', 'neutral', 'neutral', 'neutral',\n",
       "       'neutral', 'neutral', 'neutral', 'neutral', 'neutral', 'neutral',\n",
       "       'neutral', 'neutral', 'neutral', 'neutral', 'neutral', 'neutral',\n",
       "       'neutral', 'neutral', 'neutral', 'neutral', 'neutral', 'neutral',\n",
       "       'neutral', 'neutral', 'neutral', 'neutral', 'neutral', 'neutral',\n",
       "       'neutral', 'neutral', 'neutral', 'neutral', 'neutral', 'neutral',\n",
       "       'neutral', 'neutral', 'neutral', 'neutral', 'neutral', 'neutral',\n",
       "       'neutral', 'neutral', 'neutral', 'neutral', 'neutral', 'neutral',\n",
       "       'neutral', 'neutral', 'neutral', 'neutral', 'neutral', 'neutral',\n",
       "       'neutral', 'neutral', 'neutral', 'neutral', 'neutral', 'neutral',\n",
       "       'neutral', 'neutral', 'neutral', 'neutral', 'neutral', 'neutral',\n",
       "       'neutral', 'neutral', 'neutral', 'neutral', 'neutral', 'neutral',\n",
       "       'neutral', 'neutral', 'neutral', 'neutral', 'neutral', 'neutral',\n",
       "       'neutral', 'neutral', 'neutral', 'neutral', 'neutral', 'neutral',\n",
       "       'neutral', 'neutral', 'neutral', 'neutral', 'neutral', 'neutral',\n",
       "       'neutral', 'neutral', 'neutral', 'neutral', 'neutral', 'neutral',\n",
       "       'neutral', 'neutral', 'neutral', 'neutral', 'neutral', 'neutral',\n",
       "       'neutral', 'neutral', 'neutral', 'neutral', 'neutral', 'neutral',\n",
       "       'neutral', 'neutral', 'neutral', 'neutral', 'neutral', 'neutral',\n",
       "       'neutral', 'neutral', 'neutral', 'neutral', 'neutral', 'neutral',\n",
       "       'neutral', 'neutral', 'neutral', 'neutral', 'neutral', 'neutral',\n",
       "       'neutral', 'neutral', 'neutral', 'neutral', 'neutral', 'neutral',\n",
       "       'neutral', 'neutral', 'neutral', 'neutral', 'neutral', 'neutral',\n",
       "       'neutral', 'neutral', 'neutral', 'neutral', 'neutral', 'neutral',\n",
       "       'neutral', 'neutral', 'neutral', 'neutral', 'neutral', 'neutral',\n",
       "       'neutral', 'neutral', 'neutral', 'neutral', 'neutral', 'neutral',\n",
       "       'negative', 'neutral', 'neutral', 'neutral', 'neutral', 'neutral',\n",
       "       'neutral', 'neutral', 'neutral', 'neutral', 'neutral', 'neutral',\n",
       "       'neutral', 'neutral', 'neutral', 'neutral', 'neutral', 'neutral',\n",
       "       'neutral', 'neutral', 'neutral', 'neutral', 'neutral', 'neutral',\n",
       "       'neutral', 'neutral', 'neutral', 'neutral', 'neutral', 'neutral',\n",
       "       'neutral', 'neutral', 'neutral', 'neutral', 'neutral', 'neutral',\n",
       "       'neutral', 'neutral', 'neutral', 'neutral', 'neutral', 'neutral',\n",
       "       'neutral', 'neutral', 'neutral', 'neutral', 'neutral', 'neutral',\n",
       "       'neutral', 'neutral', 'neutral', 'neutral', 'neutral', 'neutral',\n",
       "       'neutral', 'neutral', 'neutral', 'neutral', 'neutral', 'neutral',\n",
       "       'neutral', 'neutral', 'neutral', 'neutral', 'neutral', 'neutral',\n",
       "       'neutral', 'neutral', 'neutral', 'neutral', 'neutral', 'neutral',\n",
       "       'neutral', 'neutral', 'neutral', 'neutral', 'neutral', 'neutral',\n",
       "       'neutral', 'neutral', 'neutral', 'neutral', 'neutral', 'neutral',\n",
       "       'neutral', 'neutral', 'neutral', 'neutral', 'neutral', 'neutral',\n",
       "       'neutral', 'neutral', 'neutral', 'neutral', 'neutral', 'neutral',\n",
       "       'neutral', 'neutral', 'neutral', 'neutral', 'neutral', 'neutral',\n",
       "       'neutral', 'neutral', 'neutral', 'neutral', 'neutral', 'neutral',\n",
       "       'neutral', 'neutral', 'neutral', 'neutral', 'neutral', 'neutral',\n",
       "       'neutral', 'neutral', 'neutral', 'neutral', 'neutral', 'neutral',\n",
       "       'neutral', 'neutral', 'neutral', 'neutral', 'neutral', 'neutral',\n",
       "       'neutral', 'neutral', 'neutral', 'neutral', 'neutral', 'neutral',\n",
       "       'neutral', 'neutral', 'neutral', 'neutral', 'neutral', 'neutral',\n",
       "       'neutral', 'neutral', 'neutral', 'neutral', 'neutral', 'neutral',\n",
       "       'positive', 'neutral', 'neutral', 'neutral', 'neutral', 'neutral',\n",
       "       'neutral', 'neutral', 'neutral', 'neutral', 'neutral', 'neutral',\n",
       "       'neutral', 'neutral', 'neutral', 'neutral', 'neutral', 'neutral',\n",
       "       'neutral', 'neutral', 'neutral', 'neutral', 'neutral', 'neutral',\n",
       "       'neutral', 'neutral', 'neutral', 'neutral', 'neutral', 'neutral',\n",
       "       'neutral', 'neutral', 'neutral', 'neutral', 'neutral', 'neutral',\n",
       "       'neutral', 'neutral', 'neutral', 'neutral', 'neutral', 'neutral',\n",
       "       'neutral', 'neutral', 'neutral', 'neutral', 'neutral', 'neutral',\n",
       "       'neutral', 'neutral', 'neutral', 'neutral', 'neutral', 'neutral',\n",
       "       'neutral', 'neutral', 'neutral', 'neutral', 'neutral', 'neutral',\n",
       "       'neutral', 'neutral', 'neutral', 'neutral', 'neutral', 'neutral',\n",
       "       'neutral', 'neutral', 'neutral', 'neutral', 'neutral', 'neutral',\n",
       "       'neutral', 'neutral', 'neutral', 'neutral', 'neutral', 'neutral',\n",
       "       'neutral', 'neutral', 'neutral', 'neutral', 'neutral', 'neutral',\n",
       "       'neutral', 'neutral', 'neutral', 'neutral', 'neutral', 'neutral',\n",
       "       'neutral', 'neutral', 'neutral', 'neutral', 'neutral', 'neutral',\n",
       "       'neutral', 'neutral', 'neutral', 'neutral', 'neutral', 'neutral',\n",
       "       'neutral', 'neutral', 'neutral', 'neutral', 'neutral', 'neutral',\n",
       "       'neutral', 'neutral', 'neutral', 'neutral', 'neutral', 'neutral',\n",
       "       'neutral', 'neutral', 'neutral', 'neutral', 'neutral', 'neutral',\n",
       "       'neutral', 'neutral', 'neutral', 'neutral', 'neutral', 'neutral',\n",
       "       'neutral', 'neutral', 'neutral', 'neutral', 'neutral', 'neutral',\n",
       "       'neutral', 'neutral', 'neutral', 'neutral', 'neutral', 'neutral',\n",
       "       'neutral', 'neutral', 'neutral', 'neutral', 'neutral', 'neutral',\n",
       "       'neutral', 'neutral', 'neutral', 'neutral', 'neutral', 'neutral',\n",
       "       'neutral', 'neutral', 'neutral', 'neutral', 'neutral', 'neutral',\n",
       "       'neutral', 'neutral', 'neutral', 'neutral', 'neutral', 'neutral',\n",
       "       'neutral', 'neutral', 'neutral', 'neutral', 'neutral', 'neutral',\n",
       "       'neutral', 'neutral', 'neutral', 'neutral', 'neutral', 'neutral',\n",
       "       'neutral', 'neutral', 'neutral', 'neutral', 'neutral', 'neutral',\n",
       "       'neutral', 'neutral', 'neutral', 'neutral', 'neutral', 'neutral',\n",
       "       'neutral', 'neutral', 'neutral', 'neutral', 'neutral', 'neutral',\n",
       "       'neutral', 'neutral', 'neutral', 'neutral', 'neutral', 'neutral',\n",
       "       'neutral', 'neutral', 'neutral', 'neutral', 'neutral', 'neutral',\n",
       "       'neutral', 'neutral', 'neutral', 'neutral', 'neutral', 'neutral',\n",
       "       'neutral', 'neutral', 'neutral', 'neutral'], dtype=object)"
      ]
     },
     "execution_count": 24,
     "metadata": {},
     "output_type": "execute_result"
    }
   ],
   "source": [
    "# Load 20__test_1__clf_pred.npy\n",
    "\n",
    "np.load('lstm_results/20__test_1__clf_pred.npy', allow_pickle=True)"
   ]
  }
 ],
 "metadata": {
  "kernelspec": {
   "display_name": "mlStuff",
   "language": "python",
   "name": "python3"
  },
  "language_info": {
   "codemirror_mode": {
    "name": "ipython",
    "version": 3
   },
   "file_extension": ".py",
   "mimetype": "text/x-python",
   "name": "python",
   "nbconvert_exporter": "python",
   "pygments_lexer": "ipython3",
   "version": "3.9.16"
  },
  "orig_nbformat": 4
 },
 "nbformat": 4,
 "nbformat_minor": 2
}
