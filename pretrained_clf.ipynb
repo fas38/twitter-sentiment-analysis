{
 "cells": [
  {
   "cell_type": "code",
   "execution_count": 18,
   "metadata": {},
   "outputs": [],
   "source": [
    "import pandas as pd\n",
    "from sklearn.metrics import accuracy_score, classification_report\n",
    "from pysentimiento import create_analyzer\n",
    "from transformers import BertTokenizer, BertForSequenceClassification, pipeline\n",
    "from transformers import DistilBertTokenizer, DistilBertForSequenceClassification"
   ]
  },
  {
   "cell_type": "code",
   "execution_count": 11,
   "metadata": {},
   "outputs": [],
   "source": [
    "# Load data\n",
    "\n",
    "team_id = '20' #put your team id here\n",
    "split = 'test_1' # replace by 'test_2' for FINAL submission\n",
    "\n",
    "df = pd.read_csv('dataset/tweets_train.csv')\n",
    "df_test = pd.read_csv(f'dataset/tweets_{split}.csv')"
   ]
  },
  {
   "cell_type": "code",
   "execution_count": 12,
   "metadata": {},
   "outputs": [],
   "source": [
    "df['words_str'] = df['words'].apply(lambda words: ' '.join(eval(words)))\n",
    "df_test['words_str'] = df_test['words'].apply(lambda words: ' '.join(eval(words)))"
   ]
  },
  {
   "cell_type": "code",
   "execution_count": 13,
   "metadata": {},
   "outputs": [],
   "source": [
    "tweets = df['words_str']\n",
    "actual_labels = df['sentiment']"
   ]
  },
  {
   "cell_type": "code",
   "execution_count": 5,
   "metadata": {},
   "outputs": [
    {
     "name": "stdout",
     "output_type": "stream",
     "text": [
      "Accuracy: 0.6795\n",
      "              precision    recall  f1-score   support\n",
      "\n",
      "    positive       0.63      0.65      0.64      2228\n",
      "     neutral       0.83      0.69      0.75      5290\n",
      "    negative       0.26      0.70      0.38       482\n",
      "\n",
      "    accuracy                           0.68      8000\n",
      "   macro avg       0.57      0.68      0.59      8000\n",
      "weighted avg       0.74      0.68      0.70      8000\n",
      "\n"
     ]
    }
   ],
   "source": [
    "# Initialize analyzer for sentiment analysis in English\n",
    "analyzer = create_analyzer(task=\"sentiment\", lang=\"en\")\n",
    "\n",
    "# Step 2: Model Predictions\n",
    "predicted_labels_raw = [analyzer.predict(tweet).output for tweet in tweets]\n",
    "\n",
    "# Convert predicted labels to match dataset's labels\n",
    "label_conversion = {\n",
    "    \"POS\": \"positive\",\n",
    "    \"NEG\": \"negative\",\n",
    "    \"NEU\": \"neutral\"\n",
    "}\n",
    "predicted_labels = [label_conversion[label] for label in predicted_labels_raw]\n",
    "\n",
    "# Step 3: Evaluation\n",
    "accuracy = accuracy_score(actual_labels, predicted_labels)\n",
    "print(f\"Accuracy: {accuracy:.4f}\")\n",
    "\n",
    "# For more detailed metrics\n",
    "print(classification_report(actual_labels, predicted_labels, labels=['positive', 'neutral', 'negative']))"
   ]
  },
  {
   "cell_type": "code",
   "execution_count": 15,
   "metadata": {},
   "outputs": [
    {
     "data": {
      "application/vnd.jupyter.widget-view+json": {
       "model_id": "57285f8674aa4f03a4e85a1ce10fa96d",
       "version_major": 2,
       "version_minor": 0
      },
      "text/plain": [
       "Downloading (…)solve/main/vocab.txt:   0%|          | 0.00/232k [00:00<?, ?B/s]"
      ]
     },
     "metadata": {},
     "output_type": "display_data"
    },
    {
     "data": {
      "application/vnd.jupyter.widget-view+json": {
       "model_id": "ee45e76d370340fca17f22d5005ac02b",
       "version_major": 2,
       "version_minor": 0
      },
      "text/plain": [
       "Downloading (…)cial_tokens_map.json:   0%|          | 0.00/112 [00:00<?, ?B/s]"
      ]
     },
     "metadata": {},
     "output_type": "display_data"
    },
    {
     "data": {
      "application/vnd.jupyter.widget-view+json": {
       "model_id": "16415f87200e4ac78f19dbbef3e9c877",
       "version_major": 2,
       "version_minor": 0
      },
      "text/plain": [
       "Downloading (…)okenizer_config.json:   0%|          | 0.00/313 [00:00<?, ?B/s]"
      ]
     },
     "metadata": {},
     "output_type": "display_data"
    },
    {
     "data": {
      "application/vnd.jupyter.widget-view+json": {
       "model_id": "2642289e62314e67bb154fcca41d1b97",
       "version_major": 2,
       "version_minor": 0
      },
      "text/plain": [
       "Downloading (…)lve/main/config.json:   0%|          | 0.00/944 [00:00<?, ?B/s]"
      ]
     },
     "metadata": {},
     "output_type": "display_data"
    },
    {
     "data": {
      "application/vnd.jupyter.widget-view+json": {
       "model_id": "45c21bb2126e47d9b0efcfb12a0a6dcd",
       "version_major": 2,
       "version_minor": 0
      },
      "text/plain": [
       "Downloading pytorch_model.bin:   0%|          | 0.00/438M [00:00<?, ?B/s]"
      ]
     },
     "metadata": {},
     "output_type": "display_data"
    },
    {
     "name": "stdout",
     "output_type": "stream",
     "text": [
      "Accuracy: 0.6643\n",
      "              precision    recall  f1-score   support\n",
      "\n",
      "    positive       0.60      0.68      0.63      2228\n",
      "     neutral       0.83      0.66      0.73      5290\n",
      "    negative       0.26      0.70      0.38       482\n",
      "\n",
      "    accuracy                           0.66      8000\n",
      "   macro avg       0.56      0.68      0.58      8000\n",
      "weighted avg       0.73      0.66      0.68      8000\n",
      "\n"
     ]
    }
   ],
   "source": [
    "# Initialize the sentiment analysis pipeline\n",
    "tokenizer = BertTokenizer.from_pretrained('Souvikcmsa/BERT_sentiment_analysis')\n",
    "model = BertForSequenceClassification.from_pretrained('Souvikcmsa/BERT_sentiment_analysis')\n",
    "nlp = pipeline('text-classification', model=model, tokenizer=tokenizer)\n",
    "\n",
    "# Predict the sentiments\n",
    "predicted_results = nlp(tweets.tolist())\n",
    "predicted_labels = [entry['label'].lower() for entry in predicted_results]\n",
    "\n",
    "# Evaluate the predictions\n",
    "accuracy = accuracy_score(actual_labels, predicted_labels)\n",
    "print(f\"Accuracy: {accuracy:.4f}\")\n",
    "print(classification_report(actual_labels, predicted_labels, labels=['positive', 'neutral', 'negative']))"
   ]
  },
  {
   "cell_type": "code",
   "execution_count": 16,
   "metadata": {},
   "outputs": [
    {
     "data": {
      "application/vnd.jupyter.widget-view+json": {
       "model_id": "fb89878dd6d6422bb2f7a5b174ed9eed",
       "version_major": 2,
       "version_minor": 0
      },
      "text/plain": [
       "Downloading (…)solve/main/vocab.txt:   0%|          | 0.00/232k [00:00<?, ?B/s]"
      ]
     },
     "metadata": {},
     "output_type": "display_data"
    },
    {
     "data": {
      "application/vnd.jupyter.widget-view+json": {
       "model_id": "f0b87ae4232f46c684a31d0301108ebf",
       "version_major": 2,
       "version_minor": 0
      },
      "text/plain": [
       "Downloading (…)cial_tokens_map.json:   0%|          | 0.00/125 [00:00<?, ?B/s]"
      ]
     },
     "metadata": {},
     "output_type": "display_data"
    },
    {
     "data": {
      "application/vnd.jupyter.widget-view+json": {
       "model_id": "c1560ce09660419db48c5a043ea51ec4",
       "version_major": 2,
       "version_minor": 0
      },
      "text/plain": [
       "Downloading (…)okenizer_config.json:   0%|          | 0.00/389 [00:00<?, ?B/s]"
      ]
     },
     "metadata": {},
     "output_type": "display_data"
    },
    {
     "data": {
      "application/vnd.jupyter.widget-view+json": {
       "model_id": "76b3f6423b6e4d1fad65cec5413458b4",
       "version_major": 2,
       "version_minor": 0
      },
      "text/plain": [
       "Downloading (…)lve/main/config.json:   0%|          | 0.00/885 [00:00<?, ?B/s]"
      ]
     },
     "metadata": {},
     "output_type": "display_data"
    },
    {
     "data": {
      "application/vnd.jupyter.widget-view+json": {
       "model_id": "f11678159cac49e4a569ee52ff017c34",
       "version_major": 2,
       "version_minor": 0
      },
      "text/plain": [
       "Downloading pytorch_model.bin:   0%|          | 0.00/438M [00:00<?, ?B/s]"
      ]
     },
     "metadata": {},
     "output_type": "display_data"
    },
    {
     "name": "stdout",
     "output_type": "stream",
     "text": [
      "Accuracy: 0.3237\n",
      "              precision    recall  f1-score   support\n",
      "\n",
      "    positive       0.84      0.31      0.45      2228\n",
      "     neutral       0.71      0.27      0.39      5290\n",
      "    negative       0.09      0.96      0.16       482\n",
      "\n",
      "    accuracy                           0.32      8000\n",
      "   macro avg       0.55      0.51      0.34      8000\n",
      "weighted avg       0.71      0.32      0.40      8000\n",
      "\n"
     ]
    }
   ],
   "source": [
    "# Initialize the sentiment analysis pipeline\n",
    "tokenizer = BertTokenizer.from_pretrained('DunnBC22/bert-base-uncased-Twitter_Sentiment_Analysis_v2')\n",
    "model = BertForSequenceClassification.from_pretrained('DunnBC22/bert-base-uncased-Twitter_Sentiment_Analysis_v2')\n",
    "nlp = pipeline('sentiment-analysis', model=model, tokenizer=tokenizer)\n",
    "\n",
    "# Predict the sentiments\n",
    "predicted_results = nlp(tweets.tolist())\n",
    "predicted_labels = [entry['label'].lower() for entry in predicted_results]\n",
    "\n",
    "# Evaluate the predictions\n",
    "accuracy = accuracy_score(actual_labels, predicted_labels)\n",
    "print(f\"Accuracy: {accuracy:.4f}\")\n",
    "print(classification_report(actual_labels, predicted_labels, labels=['positive', 'neutral', 'negative']))"
   ]
  },
  {
   "cell_type": "code",
   "execution_count": 28,
   "metadata": {},
   "outputs": [
    {
     "name": "stdout",
     "output_type": "stream",
     "text": [
      "Accuracy: 0.5970\n",
      "              precision    recall  f1-score   support\n",
      "\n",
      "    positive       0.54      0.68      0.60      2228\n",
      "     neutral       0.82      0.56      0.66      5290\n",
      "    negative       0.20      0.70      0.32       482\n",
      "\n",
      "    accuracy                           0.60      8000\n",
      "   macro avg       0.52      0.64      0.53      8000\n",
      "weighted avg       0.71      0.60      0.62      8000\n",
      "\n"
     ]
    }
   ],
   "source": [
    "# Create a sentiment analysis pipeline\n",
    "nlp = pipeline('sentiment-analysis', model='Seethal/sentiment_analysis_generic_dataset', tokenizer='Seethal/sentiment_analysis_generic_dataset')\n",
    "\n",
    "def map_label_to_sentiment(label):\n",
    "    label_mapping = {\n",
    "        'LABEL_0': 'negative',\n",
    "        'LABEL_1': 'neutral',\n",
    "        'LABEL_2': 'positive'\n",
    "    }\n",
    "    return label_mapping.get(label, 'unknown')\n",
    "\n",
    "predicted_results = nlp(tweets.tolist())\n",
    "predicted_labels = [map_label_to_sentiment(entry['label']) for entry in predicted_results]\n",
    "\n",
    "# Evaluate the predictions\n",
    "accuracy = accuracy_score(actual_labels, predicted_labels)\n",
    "print(f\"Accuracy: {accuracy:.4f}\")\n",
    "print(classification_report(actual_labels, predicted_labels, labels=['positive', 'neutral', 'negative']))"
   ]
  }
 ],
 "metadata": {
  "kernelspec": {
   "display_name": "mlStuff",
   "language": "python",
   "name": "python3"
  },
  "language_info": {
   "codemirror_mode": {
    "name": "ipython",
    "version": 3
   },
   "file_extension": ".py",
   "mimetype": "text/x-python",
   "name": "python",
   "nbconvert_exporter": "python",
   "pygments_lexer": "ipython3",
   "version": "3.9.16"
  },
  "orig_nbformat": 4
 },
 "nbformat": 4,
 "nbformat_minor": 2
}
